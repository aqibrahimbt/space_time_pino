{
 "cells": [
  {
   "cell_type": "markdown",
   "metadata": {},
   "source": [
    "# Using parareal with Partial Differential Equations"
   ]
  },
  {
   "cell_type": "markdown",
   "metadata": {},
   "source": [
    "Here, we'll apply the parareal scheme to the numerical resolution of a boundary value problem. In particular, we want to solve the linear diffussion differential equation:\n",
    "\n",
    "$$\n",
    "\\frac{\\partial u}{\\partial t} + c\\frac{\\partial u}{\\partial x} = 0\n",
    "$$\n",
    "\n",
    "with given boundary and initial conditions:\n",
    "\n",
    "$$\n",
    "u(0, t) = 0 \\\\\n",
    "u(2, t) = 0 \\\\\n",
    "u(x, 0) = u_0(x)\n",
    "$$"
   ]
  },
  {
   "cell_type": "code",
   "execution_count": 1,
   "metadata": {},
   "outputs": [],
   "source": [
    "#We'll need these libraries\n",
    "import numpy as np\n",
    "import matplotlib.pyplot as plt"
   ]
  },
  {
   "cell_type": "markdown",
   "metadata": {},
   "source": [
    "## Discretization\n",
    "We'll introduce a grid of step $\\Delta t$ in time and $\\Delta x$ in space, and a the shorthand $u^n_i \\equiv u(i \\Delta x, n \\Delta t)$. "
   ]
  },
  {
   "cell_type": "code",
   "execution_count": 2,
   "metadata": {},
   "outputs": [],
   "source": [
    "## Physical parameters\n",
    "c = 1\n",
    "\n",
    "## Numerical parameters\n",
    "\n",
    "### Domain\n",
    "start = 0\n",
    "finish = 2\n",
    "size = finish - start\n",
    "\n",
    "### Grid\n",
    "nx = 200\n",
    "nt = 70\n",
    "xs = np.linspace(start, finish, nx)\n",
    "\n",
    "### Steps\n",
    "dt = 0.01\n",
    "dx = size/(nx - 1)\n",
    "\n",
    "ts = [i * dt for i in range(0, nt)]"
   ]
  },
  {
   "cell_type": "markdown",
   "metadata": {},
   "source": [
    "It may be useful to store some of this information in dictionaries"
   ]
  },
  {
   "cell_type": "code",
   "execution_count": 3,
   "metadata": {},
   "outputs": [],
   "source": [
    "phys = {'c' : c }\n",
    "\n",
    "grid = {'xs' : xs,\n",
    "        'ts' : ts}\n",
    "\n",
    "# We don't need to store all of it, as some of the parameters\n",
    "# can be derived from xs and ts\n",
    "def read_grid(grid, prompt):\n",
    "    \"\"\" Quick access to grid properties \"\"\"\n",
    "    \n",
    "    xs = grid['xs']\n",
    "    ts = grid['ts']\n",
    "    \n",
    "    if prompt == 'start':\n",
    "        return xs[0]\n",
    "    if prompt == 'end':\n",
    "        return xs[-1]\n",
    "    if prompt == 'size':\n",
    "        return xs[-1] - xs[0]\n",
    "    if prompt == 'nx':\n",
    "        return len(xs)\n",
    "    if prompt == 'nt':\n",
    "        return len(ts)\n",
    "    if prompt == 'dx':\n",
    "        return np.diff(xs)[0]\n",
    "    if prompt == 'dt':\n",
    "        return np.diff(ts)[0]"
   ]
  },
  {
   "cell_type": "markdown",
   "metadata": {},
   "source": [
    "The boundary conditions are translated to the numerical grid as:\n",
    "\n",
    "$$\n",
    "u^n_0 = 0 \\\\\n",
    "u^n_{N-1} = 0 \\\\\n",
    "u^0_i = u_0(i \\Delta x)\n",
    "$$"
   ]
  },
  {
   "cell_type": "code",
   "execution_count": 4,
   "metadata": {},
   "outputs": [],
   "source": [
    "## Initial and boundary conditions\n",
    "\n",
    "### Set the initial conditions\n",
    "def ic(x):\n",
    "    \"\"\" Auxiliary function\n",
    "    to define the initial conditions\n",
    "    \"\"\"\n",
    "    y = .0 * (x < 0.9) + \\\n",
    "        10 * (x - 0.9) * (0.9 <= x) * (x < 1.0) + \\\n",
    "        10 * (1.1 - x) * (1.0 <= x) * (x <= 1.1) + \\\n",
    "        .0 * (1.1 < x)\n",
    "    \n",
    "    return y\n",
    "\n",
    "\n",
    "### Initialize matrix\n",
    "u = np.empty((nx, nt))\n",
    "\n",
    "### Store initial conditions\n",
    "u[:, 0] = ic(xs)\n",
    "\n",
    "### Store boundary conditions\n",
    "u[0, :] = 0\n",
    "u[-1, :] = 0"
   ]
  },
  {
   "cell_type": "markdown",
   "metadata": {},
   "source": [
    "Using a forward in time, backward in space scheme, the numerical schemes reads as:\n",
    "\n",
    "$$\n",
    "\\frac{u^{n+1}_i - u^n_i}{\\Delta t} + \\frac{c}{\\Delta x} (u^n_i - u^n_{i-1} ) = 0\n",
    "$$\n",
    "\n",
    "or, equivalently, as the explicit iterator:\n",
    "\n",
    "$$\n",
    "u^{n+1}_i = u^n_i - \\sigma (u^n_i - u^n_{i-1})\n",
    "$$\n",
    "\n",
    "Note that the iterator is controlled by the adimensional parameter $\\sigma$ defined as:\n",
    "\n",
    "$$\n",
    "\\sigma \\equiv c \\frac{\\Delta t}{\\Delta x}\n",
    "$$"
   ]
  },
  {
   "cell_type": "code",
   "execution_count": 5,
   "metadata": {},
   "outputs": [
    {
     "name": "stdout",
     "output_type": "stream",
     "text": [
      "0.995\n"
     ]
    }
   ],
   "source": [
    "def sigma(grid, phys):\n",
    "    \"\"\" Calculates sigma for the problem \"\"\"\n",
    "    return phys['c'] * read_grid(grid, 'dt') / read_grid(grid, 'dx')\n",
    "\n",
    "s = sigma(grid, phys)\n",
    "print(s)"
   ]
  },
  {
   "cell_type": "code",
   "execution_count": 6,
   "metadata": {},
   "outputs": [],
   "source": [
    "def scheme(u_this, u_back, sigma):\n",
    "    \"\"\" Given u_this (u here and now) and u_back (u back and now) returns u_future (u here and one step to the future)\"\"\"\n",
    "    \n",
    "    u_future = u_this - sigma * (u_this - u_back)\n",
    "    \n",
    "    return u_future"
   ]
  },
  {
   "cell_type": "markdown",
   "metadata": {},
   "source": [
    "So far, this is just one of the many classical schemes for solving a partial differential equation. In order to make a link with the parareal method, we need to write a function that updates in time all the spatial coordinates.\n",
    "\n",
    "This is relativelly straightforward to do using vector notation:\n",
    "\n",
    "$$\n",
    "  \\begin{align}\n",
    "     \\begin{bmatrix}\n",
    "        u^{n+1}_0 \\\\\n",
    "        u^{n+1}_1 \\\\\n",
    "        \\vdots \\\\\n",
    "        u^{n+1}_i \\\\\n",
    "        \\vdots \\\\\n",
    "        u^{n+1}_{N-2} \\\\\n",
    "        u^{n+1}_{N-1}\n",
    "      \\end{bmatrix}\n",
    "      =\n",
    "      \\begin{bmatrix}\n",
    "        u^n_0 \\\\\n",
    "        u^n_1 - \\sigma (u^n_1 - u^n_0) \\\\\n",
    "        \\vdots \\\\\n",
    "        u^n_i - \\sigma (u^n_i - u^n_{i-1}) \\\\\n",
    "        \\vdots \\\\\n",
    "        u^{n}_{N-2} - \\sigma (u^n_{N-2} - u^n_{N-3}) \\\\\n",
    "        u^{n}_{N-1}\n",
    "      \\end{bmatrix}\n",
    "  \\end{align}\n",
    "$$\n",
    "\n",
    "That is, we have a function that allows us to update our vector of states $\\vec u$ from time $n$ to time $n+1$:\n",
    "\n",
    "$$\n",
    "\\vec{u}^{n+1} = N(\\vec{u}^{n}; \\sigma)\n",
    "$$"
   ]
  },
  {
   "cell_type": "code",
   "execution_count": 7,
   "metadata": {},
   "outputs": [],
   "source": [
    "def N(u_now, sigma):\n",
    "    \"\"\" Single step update \"\"\"\n",
    "    \n",
    "    # Create the output vector\n",
    "    nx = len(u_now)\n",
    "    u_future = np.empty(nx)\n",
    "    \n",
    "    # Populate it\n",
    "    u_future[0] = u_now[0] # Boundary condition\n",
    "    for i in range(1, nx-1):\n",
    "        u_future[i] = scheme(u_now[i], u_now[i-1], sigma)\n",
    "    u_future[-1] = u_now[-1] # Boundary condition\n",
    "    \n",
    "    return u_future"
   ]
  },
  {
   "cell_type": "markdown",
   "metadata": {},
   "source": [
    "We can apply $N$ iterativelly starting from the first column, which is provided by the initial conditions. This allows us to compute any future state at any point.\n",
    "\n",
    "$$\n",
    "\\vec{u}^{n} = N^{n}(\\vec{u}^0, \\sigma)\n",
    "$$"
   ]
  },
  {
   "cell_type": "code",
   "execution_count": 8,
   "metadata": {},
   "outputs": [],
   "source": [
    "for n in range(0, nt-1):\n",
    "    u[:, n+1] = N(u[:,n], s)"
   ]
  },
  {
   "cell_type": "markdown",
   "metadata": {},
   "source": [
    "The results look as expected: the shape of the initial condition just travels with speed $c$ and without distortion."
   ]
  },
  {
   "cell_type": "code",
   "execution_count": 9,
   "metadata": {},
   "outputs": [
    {
     "data": {
      "image/png": "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",
      "text/plain": [
       "<Figure size 640x480 with 1 Axes>"
      ]
     },
     "metadata": {},
     "output_type": "display_data"
    }
   ],
   "source": [
    "plt.plot(xs, u[:, 0::10])\n",
    "plt.xlabel('x');\n",
    "plt.ylabel('u');"
   ]
  },
  {
   "cell_type": "markdown",
   "metadata": {},
   "source": [
    "## Using time as coordinate\n",
    "\n",
    "The iterator derived above deals with time through the discrete index $n$. A more practical integrator uses times instead:\n",
    "\n",
    "$$\n",
    "\\vec u (t) = \\Phi(\\vec u^0, t_0, t)\n",
    "$$\n",
    "\n",
    "We can link both types of integrators using:\n",
    "\n",
    "$$\n",
    "\\vec u (n \\Delta t) = N^n(\\vec u^0; \\sigma) = N^{n-j}(\\vec u^j; \\sigma)\n",
    "$$"
   ]
  },
  {
   "cell_type": "code",
   "execution_count": 10,
   "metadata": {},
   "outputs": [],
   "source": [
    "def phi(u0, t, grid, phys, t0 = 0):\n",
    "    \"\"\" Update in time \"\"\"\n",
    "    \n",
    "    # Extract relevant parameters from grid\n",
    "    dt = read_grid(grid, 'dt')\n",
    "    s = sigma(grid, phys)\n",
    "    \n",
    "    # Find indices of relevant times\n",
    "    j = int(np.floor(t0/ dt))\n",
    "    n = int(np.floor(t / dt))\n",
    "    \n",
    "    # Apply the discrete integrator n times\n",
    "    u_aux = u0\n",
    "    for i in range(j, n):\n",
    "        u_aux = N(u_aux, s)\n",
    "        \n",
    "    return u_aux"
   ]
  },
  {
   "cell_type": "code",
   "execution_count": 11,
   "metadata": {},
   "outputs": [
    {
     "data": {
      "image/png": "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